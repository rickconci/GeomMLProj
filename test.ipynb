{
 "cells": [
  {
   "cell_type": "code",
   "execution_count": 15,
   "metadata": {},
   "outputs": [],
   "source": [
    "import torch \n",
    "import pandas as pd\n",
    "import pickle\n",
    "import json"
   ]
  },
  {
   "cell_type": "code",
   "execution_count": 2,
   "metadata": {},
   "outputs": [],
   "source": [
    "var_embeddings = torch.load('/Users/riccardoconci/Local_documents/!!GeomML_2025/GeomMLProj/temp_dfs_lite/mimic4_bert_var_rep_gpt_source.pt')\n",
    "\n",
    "\n",
    "\n",
    "\n",
    "\n"
   ]
  },
  {
   "cell_type": "code",
   "execution_count": 4,
   "metadata": {},
   "outputs": [
    {
     "data": {
      "text/plain": [
       "torch.Size([105, 768])"
      ]
     },
     "execution_count": 4,
     "metadata": {},
     "output_type": "execute_result"
    }
   ],
   "source": [
    "var_embeddings.shape"
   ]
  },
  {
   "cell_type": "code",
   "execution_count": 11,
   "metadata": {},
   "outputs": [
    {
     "data": {
      "text/plain": [
       "105"
      ]
     },
     "execution_count": 11,
     "metadata": {},
     "output_type": "execute_result"
    }
   ],
   "source": [
    "var_names = pickle.load(open('/Users/riccardoconci/Local_documents/!!GeomML_2025/GeomMLProj/temp_dfs_lite/var_names.pkl', 'rb'))\n",
    "len(var_names)\n",
    "\n"
   ]
  },
  {
   "cell_type": "code",
   "execution_count": 16,
   "metadata": {},
   "outputs": [],
   "source": [
    "var_descriptions = json.load(open('/Users/riccardoconci/Local_documents/!!GeomML_2025/GeomMLProj/temp_dfs_lite/variable_descriptions.json', 'r'))"
   ]
  },
  {
   "cell_type": "code",
   "execution_count": 19,
   "metadata": {},
   "outputs": [
    {
     "data": {
      "text/plain": [
       "80"
      ]
     },
     "execution_count": 19,
     "metadata": {},
     "output_type": "execute_result"
    }
   ],
   "source": [
    "len(var_descriptions.keys())"
   ]
  },
  {
   "cell_type": "code",
   "execution_count": null,
   "metadata": {},
   "outputs": [],
   "source": [
    "text_list = [var_descriptions.get(v, f\"Clinical measurement: {v}\") for v in var_names]"
   ]
  },
  {
   "cell_type": "code",
   "execution_count": 22,
   "metadata": {},
   "outputs": [
    {
     "data": {
      "text/plain": [
       "['Measures the number of heartbeats per minute; an important indicator of cardiac function and overall health.',\n",
       " 'Measures the number of breaths taken per minute; crucial for assessing respiratory health and detecting respiratory distress or dysfunction.',\n",
       " 'Evaluates the percentage of hemoglobin saturated with oxygen in the blood; significant for assessing respiratory and cardiovascular system efficiency.',\n",
       " 'Measures the highest pressure in the arteries during heart beats; key for diagnosing and monitoring hypertension and cardiovascular risk.',\n",
       " 'Measures the lowest pressure in the arteries between heart beats; helps assess cardiovascular risk and monitor hypertension.',\n",
       " 'Calculates the average arterial pressure throughout one cardiac cycle; useful for evaluating blood flow to vital organs.',\n",
       " 'Measures the level of sugar in the blood; central for diagnosing and managing diabetes, and evaluating metabolic health.',\n",
       " 'Measures the level of sugar in the blood; central for diagnosing and managing diabetes, and evaluating metabolic health.',\n",
       " 'Measures the level of sugar in the blood; central for diagnosing and managing diabetes, and evaluating metabolic health.',\n",
       " \"Hematocrit measures the proportion of blood volume occupied by red blood cells, indicating the blood's capacity to carry oxygen; it is used to diagnose anemia and other conditions.\",\n",
       " \"Hematocrit measures the proportion of blood volume occupied by red blood cells, indicating the blood's capacity to carry oxygen; it is used to diagnose anemia and other conditions.\",\n",
       " 'Potassium is a vital electrolyte measured in blood that is critical for nerve function, muscle contraction, and heart rhythm; abnormal levels can lead to serious cardiovascular or neuromuscular issues.',\n",
       " 'Hemoglobin is a protein in red blood cells responsible for oxygen transport from the lungs to the rest of the body; its levels are crucial for diagnosing anemia and assessing oxygen-carrying capacity.',\n",
       " 'Hemoglobin is a protein in red blood cells responsible for oxygen transport from the lungs to the rest of the body; its levels are crucial for diagnosing anemia and assessing oxygen-carrying capacity.',\n",
       " 'Sodium is an essential electrolyte that helps regulate fluid balance, nerve function, and muscle contractions; altered levels can be indicative of dehydration, kidney issues, or endocrine disorders.',\n",
       " 'Chloride is an electrolyte that helps maintain fluid balance and pH in the body, and its levels can reflect issues with metabolic processes and acid-base balance.',\n",
       " 'Creatinine is a waste product from muscle metabolism, and its serum levels are used to assess kidney function and diagnose renal impairment.',\n",
       " 'Urea Nitrogen, measured as Blood Urea Nitrogen (BUN), reflects kidney function and protein metabolism; elevated levels may indicate kidney dysfunction or dehydration.',\n",
       " \"Bicarbonate is a component of the blood's buffering system to maintain acid-base balance; abnormal levels can indicate metabolic acidosis or alkalosis.\",\n",
       " 'Anion Gap is calculated from electrolyte values to help identify the causes of metabolic acidosis, providing insight into unmeasured ions in the blood.',\n",
       " 'Measures the number of platelets in the blood, crucial for blood clotting and evaluating bleeding risks or disorders like thrombocytopenia.',\n",
       " \"Measures the count of white blood cells, essential for assessing the immune system's response to infection, inflammation, or malignancy.\",\n",
       " 'Refers to the use of a Foley catheter, significant for monitoring urine output and relieving urinary retention, often used in hospitalized patients.',\n",
       " 'Measures the level of magnesium in the blood, important for muscle and nerve function, and often assessed in the context of electrolyte imbalance.',\n",
       " 'Measures the level of phosphate in the blood, vital for energy production and bone health, can be a marker for kidney function and phosphate regulation disorders.',\n",
       " 'Assesses the total calcium concentration in the blood, crucial for bone health, cardiac function, and neuromuscular activities.',\n",
       " \"Evaluates a patient's awareness of time, place, and person, important for assessing cognitive function and neurological status.\",\n",
       " 'Measures Mean Corpuscular Hemoglobin Concentration, reflecting the average concentration of hemoglobin in red blood cells, useful for diagnosing types of anemia.',\n",
       " 'Counts the number of red blood cells in the blood, fundamental for delivering oxygen to tissues and assessing conditions like anemia or polycythemia.',\n",
       " 'Measures Mean Corpuscular Volume, indicating the average size of red blood cells, aiding in the classification of anemias based on cell size.',\n",
       " 'Mean Corpuscular Hemoglobin (MCH) measures the average amount of hemoglobin in a single red blood cell, crucial for diagnosing types of anemia.',\n",
       " 'Red Cell Distribution Width (RDW) indicates the variation in size of red blood cells, useful in assessing anisocytosis and differentiating anemia causes.',\n",
       " 'Arterial Blood Pressure mean provides an average of the systolic and diastolic pressures over a cardiac cycle, important for assessing overall blood pressure control.',\n",
       " 'Arterial Blood Pressure systolic measures the pressure in arteries during heart muscle contraction, a key indicator of cardiovascular health and risk of hypertension.',\n",
       " 'Arterial Blood Pressure diastolic measures the pressure in arteries when the heart is at rest between beats, important for evaluating blood vessel resistance and hypertension risk.',\n",
       " \"Glasgow Coma Scale (GCS) - Eye Opening assesses the patient's ability to open their eyes spontaneously or in response to stimuli, a component in evaluating consciousness levels.\",\n",
       " \"Glasgow Coma Scale (GCS) - Verbal Response evaluates a patient's ability to speak and respond verbally, aiding in the assessment of their cognitive status and level of consciousness.\",\n",
       " \"Glasgow Coma Scale (GCS) - Motor Response measures the patient's ability to move or respond to commands, crucial for determining neurological function and consciousness state.\",\n",
       " \"Temperature Fahrenheit measures the body's core temperature, vital for identifying fever, infection, or other thermoregulatory issues.\",\n",
       " \"Partial Thromboplastin Time (PTT) evaluates the blood's ability to clot properly, essential for diagnosing bleeding disorders and monitoring anticoagulant therapy effectiveness.\",\n",
       " 'The International Normalized Ratio (INR) is a calculation based on the prothrombin time (PT) test and measures the effectiveness of the extrinsic pathway of coagulation, often used to monitor anticoagulant therapy like warfarin.',\n",
       " 'Prothrombin Time (PT) measures the time it takes for blood to clot, assessing the function of the coagulation pathway, and is used to evaluate bleeding disorders and anticoagulant therapy.',\n",
       " 'pH measures the hydrogen ion concentration in the blood, indicating its acidity or alkalinity, and is significant in assessing acid-base balance in the body, which is crucial for maintaining normal physiological functions.',\n",
       " 'pH measures the hydrogen ion concentration in the blood, indicating its acidity or alkalinity, and is significant in assessing acid-base balance in the body, which is crucial for maintaining normal physiological functions.',\n",
       " 'pH measures the hydrogen ion concentration in the blood, indicating its acidity or alkalinity, and is significant in assessing acid-base balance in the body, which is crucial for maintaining normal physiological functions.',\n",
       " 'pH measures the hydrogen ion concentration in the blood, indicating its acidity or alkalinity, and is significant in assessing acid-base balance in the body, which is crucial for maintaining normal physiological functions.',\n",
       " 'Red Cell Distribution Width-Standard Deviation (RDW-SD) indicates the variation in the size of red blood cells and is significant in diagnosing different types of anemia and distinguishing between iron deficiency anemia and other microcytic anemias.',\n",
       " \"In clinical contexts, 'H' could refer to Hemoglobin, which measures the concentration of hemoglobin in the blood, key for diagnosing and monitoring anemia and other blood disorders.\",\n",
       " \"In laboratory results, 'L' might stand for leukocytes (white blood cells), measuring the count of white blood cells, and is significant for identifying infections, inflammation, and hematologic diseases.\",\n",
       " \"In clinical measurements, 'I' could refer to Immature granulocytes, indicative of early-stage response to infection or inflammation, assisting in diagnosing acute conditions or monitoring bone marrow activity.\",\n",
       " 'Measures the muscular strength in the right arm, important for assessing motor function and detecting neurological or muscular disorders.',\n",
       " 'Measures the muscular strength in the left arm, important for evaluating motor function and diagnosing potential neurological or muscular injuries.',\n",
       " 'Measures the muscular strength in the right leg, crucial for assessing mobility and detecting neurological or muscular impairments.',\n",
       " 'Measures the muscular strength in the left leg, essential for evaluating mobility and identifying potential neurological or muscular deficits.',\n",
       " 'Measures the pressure in the central veins, indicating fluid volume status and cardiac function, useful in managing critically ill patients.',\n",
       " 'Measures the partial pressure of oxygen in the blood, crucial for assessing respiratory function and oxygenation status.',\n",
       " 'An enzyme that, when elevated in the blood, can indicate liver damage or disease, as well as heart or muscle injuries.',\n",
       " 'Measures the partial pressure of carbon dioxide in the blood, significant for evaluating respiratory efficiency and acid-base balance.',\n",
       " 'Represents the total amount of carbon dioxide in the blood, including dissolved CO2 and bicarbonate, used to assess metabolic and respiratory function.',\n",
       " 'An enzyme primarily found in the liver; elevated levels can indicate liver damage or dysfunction, aiding in liver disease diagnosis.',\n",
       " 'Total bilirubin measures the amount of bilirubin in the blood, which is crucial for assessing liver function and diagnosing jaundice or other liver-related conditions.',\n",
       " 'Alkaline phosphatase is an enzyme found in various tissues, and elevated levels can indicate liver damage or bone disorders.',\n",
       " 'Base excess quantifies the amount of excess or deficient base in the blood, aiding in the assessment of metabolic acid-base disturbances.',\n",
       " 'O2 Flow refers to the rate of oxygen delivered to the patient, which is significant for ensuring adequate oxygenation in respiratory therapy.',\n",
       " 'O2 Flow refers to the rate of oxygen delivered to the patient, which is significant for ensuring adequate oxygenation in respiratory therapy.',\n",
       " 'Lactate levels measure the presence of lactic acid in the blood, which is vital for detecting tissue hypoxia and assessing conditions like sepsis or shock.',\n",
       " 'Inspired O2 Fraction (FiO2) indicates the concentration of oxygen in the air being delivered to the patient, essential for managing respiratory therapy and ensuring optimal oxygen levels.',\n",
       " 'Monocytes are a type of white blood cell that plays a role in the immune system by responding to inflammation and infections; their levels can indicate immune response or the presence of certain infections or inflammatory conditions.',\n",
       " 'Monocytes are a type of white blood cell that plays a role in the immune system by responding to inflammation and infections; their levels can indicate immune response or the presence of certain infections or inflammatory conditions.',\n",
       " 'Monocytes are a type of white blood cell that plays a role in the immune system by responding to inflammation and infections; their levels can indicate immune response or the presence of certain infections or inflammatory conditions.',\n",
       " 'Monocytes are a type of white blood cell that plays a role in the immune system by responding to inflammation and infections; their levels can indicate immune response or the presence of certain infections or inflammatory conditions.',\n",
       " 'Lymphocytes are white blood cells that are key components of the immune system, involved in producing antibodies and orchestrating the immune response; abnormal levels can suggest infections, autoimmune disorders, or hematological conditions.',\n",
       " 'Lymphocytes are white blood cells that are key components of the immune system, involved in producing antibodies and orchestrating the immune response; abnormal levels can suggest infections, autoimmune disorders, or hematological conditions.',\n",
       " 'Lymphocytes are white blood cells that are key components of the immune system, involved in producing antibodies and orchestrating the immune response; abnormal levels can suggest infections, autoimmune disorders, or hematological conditions.',\n",
       " 'Lymphocytes are white blood cells that are key components of the immune system, involved in producing antibodies and orchestrating the immune response; abnormal levels can suggest infections, autoimmune disorders, or hematological conditions.',\n",
       " 'Lymphocytes are white blood cells that are key components of the immune system, involved in producing antibodies and orchestrating the immune response; abnormal levels can suggest infections, autoimmune disorders, or hematological conditions.',\n",
       " 'Eosinophils are a type of white blood cell involved in allergic responses and parasitic infections; elevated levels may indicate allergies, asthma, or parasitic disease.',\n",
       " 'Eosinophils are a type of white blood cell involved in allergic responses and parasitic infections; elevated levels may indicate allergies, asthma, or parasitic disease.',\n",
       " 'Eosinophils are a type of white blood cell involved in allergic responses and parasitic infections; elevated levels may indicate allergies, asthma, or parasitic disease.',\n",
       " 'Eosinophils are a type of white blood cell involved in allergic responses and parasitic infections; elevated levels may indicate allergies, asthma, or parasitic disease.',\n",
       " 'Eosinophils are a type of white blood cell involved in allergic responses and parasitic infections; elevated levels may indicate allergies, asthma, or parasitic disease.',\n",
       " 'Eosinophils are a type of white blood cell involved in allergic responses and parasitic infections; elevated levels may indicate allergies, asthma, or parasitic disease.',\n",
       " 'Free calcium refers to the ionized calcium in the blood that is not bound to proteins; it is critical for bone health, muscle function, and nerve signaling.',\n",
       " 'Basophils are white blood cells that play a role in allergic reactions and inflammation; increased levels may be associated with allergic reactions, infections, or certain myeloproliferative disorders.',\n",
       " 'Basophils are white blood cells that play a role in allergic reactions and inflammation; increased levels may be associated with allergic reactions, infections, or certain myeloproliferative disorders.',\n",
       " 'Basophils are white blood cells that play a role in allergic reactions and inflammation; increased levels may be associated with allergic reactions, infections, or certain myeloproliferative disorders.',\n",
       " 'Basophils are white blood cells that play a role in allergic reactions and inflammation; increased levels may be associated with allergic reactions, infections, or certain myeloproliferative disorders.',\n",
       " 'Basophils are white blood cells that play a role in allergic reactions and inflammation; increased levels may be associated with allergic reactions, infections, or certain myeloproliferative disorders.',\n",
       " 'Basophils are white blood cells that play a role in allergic reactions and inflammation; increased levels may be associated with allergic reactions, infections, or certain myeloproliferative disorders.',\n",
       " 'Neutrophils are the most abundant type of white blood cell and are essential for fighting bacterial infections; elevated levels often indicate acute infection or inflammation.',\n",
       " \"This assessment evaluates a patient's ability to correctly identify themselves, indicating awareness and cognitive function, which is crucial in assessing mental status in neurological examinations.\",\n",
       " \"This measurement assesses a patient's ability to accurately identify their current location, reflecting cognitive function and awareness, important in diagnosing confusion or disorientation in various neurological and psychiatric conditions.\",\n",
       " \"Orientation to Time evaluates a patient's ability to recognize the current date or time, which is significant for assessing cognitive status and memory function, often used in neurological examinations.\",\n",
       " 'This refers to the measurement or status of fluid or air drainage from the first inserted chest tube, which is important for monitoring and managing conditions like pneumothorax or pleural effusion post-operatively.',\n",
       " 'This records whether a patient has urinated, indicating kidney function or fluid balance, which is essential for monitoring hydration status and renal health.',\n",
       " 'Positive End-Expiratory Pressure (PEEP) set is the level of pressure maintained in the lungs at the end of expiration during mechanical ventilation, crucial for preventing alveolar collapse in respiratory therapy.',\n",
       " 'LD measures the enzyme level that catalyzes lactate conversion in cells; elevated levels can indicate tissue damage or disease processes such as hemolysis, myocardial infarction, or liver disease.',\n",
       " 'Albumin is a protein in blood plasma that helps maintain oncotic pressure and transport substances; low levels can signal liver disease, renal dysfunction, or malnutrition.',\n",
       " 'Clinical measurement: Potassium, Whole Blood',\n",
       " 'Minute Volume is the total volume of air breathed in and out per minute, reflecting respiratory efficiency and adequacy in ventilatory support, crucial in managing patients with respiratory failure.',\n",
       " 'Tidal Volume (observed) measures the volume of air that is inhaled or exhaled during a single respiratory cycle under normal conditions, and it is crucial for assessing lung function and respiratory mechanics in ventilated patients.',\n",
       " 'Mean Airway Pressure is the average pressure throughout the entire respiratory cycle on mechanical ventilation, which is important for ensuring adequate ventilation without causing lung injury.',\n",
       " \"Pulmonary Artery Pressure diastolic measures the pressure in the pulmonary artery during the heart's relaxation phase, providing insights into pulmonary vascular resistance and potential pulmonary hypertension.\",\n",
       " 'Pulmonary Artery Pressure systolic indicates the pressure in the pulmonary artery during cardiac contraction, essential for assessing cardiac function and diagnosing pulmonary hypertension.',\n",
       " 'Peak Insp. Pressure is the maximum pressure reached in the airways during inspiration on mechanical ventilation, and it is significant for evaluating airway resistance and risk of lung injury.']"
      ]
     },
     "execution_count": 22,
     "metadata": {},
     "output_type": "execute_result"
    }
   ],
   "source": [
    "text_list"
   ]
  },
  {
   "cell_type": "code",
   "execution_count": null,
   "metadata": {},
   "outputs": [],
   "source": []
  }
 ],
 "metadata": {
  "kernelspec": {
   "display_name": "GeomML",
   "language": "python",
   "name": "python3"
  },
  "language_info": {
   "codemirror_mode": {
    "name": "ipython",
    "version": 3
   },
   "file_extension": ".py",
   "mimetype": "text/x-python",
   "name": "python",
   "nbconvert_exporter": "python",
   "pygments_lexer": "ipython3",
   "version": "3.11.11"
  }
 },
 "nbformat": 4,
 "nbformat_minor": 2
}
